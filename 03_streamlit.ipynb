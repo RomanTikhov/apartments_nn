{
 "cells": [
  {
   "cell_type": "code",
   "execution_count": 1,
   "id": "fbb1b4c0-b1a2-4ed0-8060-5c32d6ff6b96",
   "metadata": {},
   "outputs": [],
   "source": [
    "import streamlit as st\n",
    "import pickle\n",
    "import pandas as pd"
   ]
  },
  {
   "cell_type": "code",
   "execution_count": 2,
   "id": "b8de6941-f4e9-4297-8c17-80a5fab4ad1c",
   "metadata": {},
   "outputs": [
    {
     "name": "stderr",
     "output_type": "stream",
     "text": [
      "2025-04-24 19:46:00.025 \n",
      "  \u001b[33m\u001b[1mWarning:\u001b[0m to view this Streamlit app on a browser, run it with the following\n",
      "  command:\n",
      "\n",
      "    streamlit run C:\\ProgramData\\anaconda3\\Lib\\site-packages\\ipykernel_launcher.py [ARGUMENTS]\n"
     ]
    }
   ],
   "source": [
    "st.write(\"# Узнай актуальную цену квартиры в НН\")"
   ]
  },
  {
   "cell_type": "code",
   "execution_count": null,
   "id": "56834a40-b92b-42a3-a89a-b7ad1a04d0ae",
   "metadata": {},
   "outputs": [],
   "source": [
    "streamlit run app.py"
   ]
  },
  {
   "cell_type": "code",
   "execution_count": null,
   "id": "9655274b-ed2e-4cef-b3ba-2cbda03fdcaf",
   "metadata": {},
   "outputs": [],
   "source": [
    "district = st.selectbox(\n",
    "    \"Район\",\n",
    "    ['Советский', 'Приокский', 'Канавинский', 'Автозаводский',\n",
    "       'Нижегородский', 'Московский', 'Сормовский', 'Новинский',\n",
    "       'Ленинский']\n",
    ")"
   ]
  },
  {
   "cell_type": "code",
   "execution_count": null,
   "id": "4b30c657-81e6-45b9-a345-f9ed5a3cb9ad",
   "metadata": {},
   "outputs": [],
   "source": [
    "building_type = st.selectbox(\n",
    "    \"Материал дома\",\n",
    "    ['кирпич', 'панель', 'шлакоблок', 'блок+утеплитель', 'дерево',\n",
    "           'монолитный железобетон']\n",
    ")"
   ]
  },
  {
   "cell_type": "code",
   "execution_count": null,
   "id": "ddf6088e-9323-43fe-8d53-b6def98a0523",
   "metadata": {},
   "outputs": [],
   "source": [
    "# st.write(\"You selected:\", building_type)"
   ]
  },
  {
   "cell_type": "code",
   "execution_count": null,
   "id": "4a652ebe-ab3e-4a8f-b3f1-dc2153394eb0",
   "metadata": {},
   "outputs": [],
   "source": [
    "year = st.slider(\n",
    "    '### Год постройки:',\n",
    "    min_value=1835.0,\n",
    "    max_value=2027.0,\n",
    "    value=2000.0,\n",
    "    step=1.0\n",
    ")"
   ]
  },
  {
   "cell_type": "code",
   "execution_count": null,
   "id": "a2b47101-604d-4170-9589-5402f87bb128",
   "metadata": {},
   "outputs": [],
   "source": [
    "# Переделать в слайдер от 0 до 8\n",
    "rooms = ['Студия', 'Однокомнатная', 'Двухкомнатная', 'Трехкомнатная', 'Четырехкомнатная', '', '', '', '']\n",
    "rooms_count = st.selectbox(\n",
    "    \"Комнаты\",\n",
    "    rooms,\n",
    "    index=2\n",
    ")"
   ]
  },
  {
   "cell_type": "code",
   "execution_count": null,
   "id": "0280a7b8-e183-4c70-8ae9-e8c781e3ebc6",
   "metadata": {},
   "outputs": [],
   "source": [
    "room2count = dict(zip(rooms,[0,1,2,3,4]))"
   ]
  },
  {
   "cell_type": "code",
   "execution_count": null,
   "id": "3560a25d-936f-4dd4-9f11-7fb5059bb503",
   "metadata": {},
   "outputs": [],
   "source": [
    "no_first_no_last = st.checkbox(\"Не первый не последний этаж\", value=True)"
   ]
  },
  {
   "cell_type": "code",
   "execution_count": null,
   "id": "06bc0d96-ae4b-49ef-bc6b-62acff699dec",
   "metadata": {},
   "outputs": [],
   "source": [
    "appart =dict(zip(\n",
    "    ['area1', 'district', 'building_type', 'year', 'rooms_count', 'no_first_no_last'],\n",
    "    [area, district, building_type, year, rooms2int[rooms_count], no_first_no_last]\n",
    "))\n",
    "# )\n",
    "new = pd.DataFrame(appart, index=[0])"
   ]
  },
  {
   "cell_type": "code",
   "execution_count": null,
   "id": "45426524-62b9-4788-ac6e-521f6b06d0dc",
   "metadata": {},
   "outputs": [],
   "source": [
    "appart =dict(zip(\n",
    "    ['area1', 'district', 'building_type', 'year', 'rooms_count', 'no_first_no_last'],\n",
    "    [area, district, building_type, year, rooms2int[rooms_count], no_first_no_last]\n",
    "))"
   ]
  },
  {
   "cell_type": "code",
   "execution_count": null,
   "id": "80dbbc64-60c1-4ccb-8e0a-2f78f562edc0",
   "metadata": {},
   "outputs": [],
   "source": [
    "new = pd.DataFrame(appart, index=[0])\n",
    "st.write(new)"
   ]
  },
  {
   "cell_type": "code",
   "execution_count": null,
   "id": "4bf347b1-fafb-436b-a420-2d6f9e07495a",
   "metadata": {},
   "outputs": [],
   "source": [
    "model_pkl_file = \"models/apartment_prices_regression.pkl\"\n",
    "with open(model_pkl_file, 'rb') as file:\n",
    "    model = pickle.load(file)"
   ]
  },
  {
   "cell_type": "code",
   "execution_count": null,
   "id": "be9e10fb-89a2-4fd5-af0b-c45400013ce6",
   "metadata": {},
   "outputs": [],
   "source": [
    "st.write(\"## Оценочная стоимость квартиры:\",\"{:,}\".format(int(model.predict(new)[0])))"
   ]
  },
  {
   "cell_type": "code",
   "execution_count": null,
   "id": "ddd34a12-6e24-4021-906e-1c9720868754",
   "metadata": {},
   "outputs": [],
   "source": [
    "pip install scikit-learn"
   ]
  },
  {
   "cell_type": "code",
   "execution_count": null,
   "id": "068b180f-2ca9-4dee-9011-fbc230bbe67e",
   "metadata": {},
   "outputs": [],
   "source": [
    "sklearn.__version__"
   ]
  },
  {
   "cell_type": "code",
   "execution_count": null,
   "id": "84c983df-7d0b-4891-9292-f0836a2b42f3",
   "metadata": {},
   "outputs": [],
   "source": [
    "pip install scikit-learn==1.4.1.post1"
   ]
  },
  {
   "cell_type": "code",
   "execution_count": null,
   "id": "fbbd3b14-f99a-4359-9210-7f69a38428c0",
   "metadata": {},
   "outputs": [],
   "source": [
    "pip install scikit-learn==1.2.2"
   ]
  },
  {
   "cell_type": "code",
   "execution_count": null,
   "id": "ad4efa2f-2e68-44a8-b217-5965e3a20252",
   "metadata": {},
   "outputs": [],
   "source": [
    "Git add, git commit, git push"
   ]
  }
 ],
 "metadata": {
  "kernelspec": {
   "display_name": "Python 3 (ipykernel)",
   "language": "python",
   "name": "python3"
  },
  "language_info": {
   "codemirror_mode": {
    "name": "ipython",
    "version": 3
   },
   "file_extension": ".py",
   "mimetype": "text/x-python",
   "name": "python",
   "nbconvert_exporter": "python",
   "pygments_lexer": "ipython3",
   "version": "3.11.7"
  }
 },
 "nbformat": 4,
 "nbformat_minor": 5
}
