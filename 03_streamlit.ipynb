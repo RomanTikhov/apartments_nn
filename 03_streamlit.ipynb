{
 "cells": [
  {
   "cell_type": "code",
   "execution_count": 1,
   "id": "fbb1b4c0-b1a2-4ed0-8060-5c32d6ff6b96",
   "metadata": {},
   "outputs": [],
   "source": [
    "import streamlit as st\n",
    "import pickle\n",
    "import pandas as pd"
   ]
  },
  {
   "cell_type": "code",
   "execution_count": 2,
   "id": "65b28e78-346c-4c82-b04a-8b27a75616d0",
   "metadata": {},
   "outputs": [],
   "source": [
    "df = pd.read_csv('data/houses_modeling.csv')"
   ]
  },
  {
   "cell_type": "code",
   "execution_count": 4,
   "id": "12a57433-c552-482e-ae2b-caaaebcd5120",
   "metadata": {},
   "outputs": [
    {
     "data": {
      "text/html": [
       "<div>\n",
       "<style scoped>\n",
       "    .dataframe tbody tr th:only-of-type {\n",
       "        vertical-align: middle;\n",
       "    }\n",
       "\n",
       "    .dataframe tbody tr th {\n",
       "        vertical-align: top;\n",
       "    }\n",
       "\n",
       "    .dataframe thead th {\n",
       "        text-align: right;\n",
       "    }\n",
       "</style>\n",
       "<table border=\"1\" class=\"dataframe\">\n",
       "  <thead>\n",
       "    <tr style=\"text-align: right;\">\n",
       "      <th></th>\n",
       "      <th>livrooms_count</th>\n",
       "      <th>district</th>\n",
       "      <th>year</th>\n",
       "      <th>level</th>\n",
       "      <th>house_levels</th>\n",
       "      <th>const_tech</th>\n",
       "      <th>area</th>\n",
       "      <th>liv_area</th>\n",
       "      <th>kitchen_area</th>\n",
       "      <th>price</th>\n",
       "      <th>log_price</th>\n",
       "    </tr>\n",
       "  </thead>\n",
       "  <tbody>\n",
       "    <tr>\n",
       "      <th>1266</th>\n",
       "      <td>3</td>\n",
       "      <td>Нижегородский</td>\n",
       "      <td>1968.0</td>\n",
       "      <td>3</td>\n",
       "      <td>5</td>\n",
       "      <td>кирпич</td>\n",
       "      <td>62.9</td>\n",
       "      <td>48.2</td>\n",
       "      <td>6.0</td>\n",
       "      <td>11600000</td>\n",
       "      <td>16.266516</td>\n",
       "    </tr>\n",
       "    <tr>\n",
       "      <th>1736</th>\n",
       "      <td>2</td>\n",
       "      <td>Советский</td>\n",
       "      <td>2025.0</td>\n",
       "      <td>8</td>\n",
       "      <td>13</td>\n",
       "      <td>кирпич</td>\n",
       "      <td>79.3</td>\n",
       "      <td>27.6</td>\n",
       "      <td>30.1</td>\n",
       "      <td>23570590</td>\n",
       "      <td>16.975510</td>\n",
       "    </tr>\n",
       "    <tr>\n",
       "      <th>1848</th>\n",
       "      <td>1</td>\n",
       "      <td>Канавинский</td>\n",
       "      <td>2026.0</td>\n",
       "      <td>12</td>\n",
       "      <td>24</td>\n",
       "      <td>блок+утеплитель</td>\n",
       "      <td>44.5</td>\n",
       "      <td>11.1</td>\n",
       "      <td>16.0</td>\n",
       "      <td>10990000</td>\n",
       "      <td>16.212496</td>\n",
       "    </tr>\n",
       "  </tbody>\n",
       "</table>\n",
       "</div>"
      ],
      "text/plain": [
       "      livrooms_count       district    year  level  house_levels  \\\n",
       "1266               3  Нижегородский  1968.0      3             5   \n",
       "1736               2      Советский  2025.0      8            13   \n",
       "1848               1    Канавинский  2026.0     12            24   \n",
       "\n",
       "           const_tech  area  liv_area  kitchen_area     price  log_price  \n",
       "1266           кирпич  62.9      48.2           6.0  11600000  16.266516  \n",
       "1736           кирпич  79.3      27.6          30.1  23570590  16.975510  \n",
       "1848  блок+утеплитель  44.5      11.1          16.0  10990000  16.212496  "
      ]
     },
     "execution_count": 4,
     "metadata": {},
     "output_type": "execute_result"
    }
   ],
   "source": [
    "df.sample(3)"
   ]
  },
  {
   "cell_type": "code",
   "execution_count": 25,
   "id": "569ced74-5bf6-435b-92b7-d93b4ef29c02",
   "metadata": {},
   "outputs": [
    {
     "name": "stdout",
     "output_type": "stream",
     "text": [
      "<class 'pandas.core.frame.DataFrame'>\n",
      "RangeIndex: 2450 entries, 0 to 2449\n",
      "Data columns (total 11 columns):\n",
      " #   Column          Non-Null Count  Dtype  \n",
      "---  ------          --------------  -----  \n",
      " 0   livrooms_count  2450 non-null   int64  \n",
      " 1   district        2450 non-null   object \n",
      " 2   year            2450 non-null   float64\n",
      " 3   level           2450 non-null   int64  \n",
      " 4   house_levels    2450 non-null   int64  \n",
      " 5   const_tech      2450 non-null   object \n",
      " 6   area            2450 non-null   float64\n",
      " 7   liv_area        2450 non-null   float64\n",
      " 8   kitchen_area    2450 non-null   float64\n",
      " 9   price           2450 non-null   int64  \n",
      " 10  log_price       2450 non-null   float64\n",
      "dtypes: float64(5), int64(4), object(2)\n",
      "memory usage: 210.7+ KB\n"
     ]
    }
   ],
   "source": [
    "df.info()"
   ]
  },
  {
   "cell_type": "code",
   "execution_count": 9,
   "id": "9c75759f-7957-4113-8987-a607e2af5d1f",
   "metadata": {},
   "outputs": [
    {
     "data": {
      "text/plain": [
       "livrooms_count\n",
       "2    975\n",
       "1    718\n",
       "3    564\n",
       "4     97\n",
       "0     89\n",
       "5      6\n",
       "7      1\n",
       "Name: count, dtype: int64"
      ]
     },
     "execution_count": 9,
     "metadata": {},
     "output_type": "execute_result"
    }
   ],
   "source": [
    "df.livrooms_count.value_counts()"
   ]
  },
  {
   "cell_type": "code",
   "execution_count": 8,
   "id": "489f52cb-4a23-4f45-a1b8-2fc17e8ef6c0",
   "metadata": {},
   "outputs": [
    {
     "data": {
      "text/plain": [
       "count    2450.000000\n",
       "mean     1999.622332\n",
       "std        26.498866\n",
       "min      1929.000000\n",
       "25%      1974.000000\n",
       "50%      2010.000000\n",
       "75%      2026.000000\n",
       "max      2027.000000\n",
       "Name: year, dtype: float64"
      ]
     },
     "execution_count": 8,
     "metadata": {},
     "output_type": "execute_result"
    }
   ],
   "source": [
    "df.year.describe()"
   ]
  },
  {
   "cell_type": "code",
   "execution_count": 2,
   "id": "b8de6941-f4e9-4297-8c17-80a5fab4ad1c",
   "metadata": {},
   "outputs": [
    {
     "name": "stderr",
     "output_type": "stream",
     "text": [
      "2025-04-24 19:46:00.025 \n",
      "  \u001b[33m\u001b[1mWarning:\u001b[0m to view this Streamlit app on a browser, run it with the following\n",
      "  command:\n",
      "\n",
      "    streamlit run C:\\ProgramData\\anaconda3\\Lib\\site-packages\\ipykernel_launcher.py [ARGUMENTS]\n"
     ]
    }
   ],
   "source": [
    "st.write(\"# Узнай актуальную цену квартиры в НН\")"
   ]
  },
  {
   "cell_type": "code",
   "execution_count": 7,
   "id": "245bc552-7e07-4915-9c4c-24470b5793cc",
   "metadata": {},
   "outputs": [
    {
     "data": {
      "text/plain": [
       "array(['кирпич', 'блок+утеплитель', 'шлакоблок', 'панель',\n",
       "       'монолитный железобетон', 'поризованный керамический блок',\n",
       "       'стеновая панель на деревянном каркасе', 'дерево'], dtype=object)"
      ]
     },
     "execution_count": 7,
     "metadata": {},
     "output_type": "execute_result"
    }
   ],
   "source": [
    "df.const_tech.unique()"
   ]
  },
  {
   "cell_type": "code",
   "execution_count": 10,
   "id": "e204782d-458c-4b97-a366-2c75650beb55",
   "metadata": {},
   "outputs": [
    {
     "data": {
      "text/plain": [
       "level\n",
       "1     349\n",
       "2     335\n",
       "4     305\n",
       "3     266\n",
       "5     226\n",
       "6     141\n",
       "8     129\n",
       "9     127\n",
       "7     122\n",
       "10     74\n",
       "13     54\n",
       "11     53\n",
       "12     51\n",
       "15     44\n",
       "16     39\n",
       "14     30\n",
       "18     25\n",
       "17     22\n",
       "19     15\n",
       "21     12\n",
       "20      9\n",
       "23      7\n",
       "24      6\n",
       "22      5\n",
       "0       2\n",
       "25      2\n",
       "Name: count, dtype: int64"
      ]
     },
     "execution_count": 10,
     "metadata": {},
     "output_type": "execute_result"
    }
   ],
   "source": [
    "df.level.value_counts()"
   ]
  },
  {
   "cell_type": "code",
   "execution_count": 21,
   "id": "b57b63f1-a89e-496d-acfa-e408898140b9",
   "metadata": {},
   "outputs": [
    {
     "name": "stdout",
     "output_type": "stream",
     "text": [
      "[1, 2, 3, 4, 5, 6, 7, 8, 9, 10, 11, 12, 13, 14, 15, 16, 17, 18, 19, 20, 21, 22, 23, 24, 25, 26, 27, 28]\n"
     ]
    }
   ],
   "source": [
    "print(sorted(df.house_levels.unique()))"
   ]
  },
  {
   "cell_type": "code",
   "execution_count": 23,
   "id": "c82fa9da-b5ee-45ae-add8-9d228e2bf11c",
   "metadata": {},
   "outputs": [
    {
     "data": {
      "text/plain": [
       "count    2450.000000\n",
       "mean       29.662445\n",
       "std        14.040000\n",
       "min         7.000000\n",
       "25%        18.000000\n",
       "50%        28.000000\n",
       "75%        37.300000\n",
       "max       154.600000\n",
       "Name: liv_area, dtype: float64"
      ]
     },
     "execution_count": 23,
     "metadata": {},
     "output_type": "execute_result"
    }
   ],
   "source": [
    "df.liv_area.describe()"
   ]
  },
  {
   "cell_type": "code",
   "execution_count": null,
   "id": "89c12bb2-d20d-401e-9e07-fe2394963292",
   "metadata": {},
   "outputs": [],
   "source": [
    "df.area.describe()"
   ]
  },
  {
   "cell_type": "code",
   "execution_count": 24,
   "id": "8172a3b3-c843-4913-be86-9113f0bf7d2e",
   "metadata": {},
   "outputs": [
    {
     "data": {
      "text/plain": [
       "count    2450.000000\n",
       "mean       11.167118\n",
       "std         6.582355\n",
       "min         0.000000\n",
       "25%         6.000000\n",
       "50%         9.500000\n",
       "75%        14.900000\n",
       "max        58.200000\n",
       "Name: kitchen_area, dtype: float64"
      ]
     },
     "execution_count": 24,
     "metadata": {},
     "output_type": "execute_result"
    }
   ],
   "source": [
    "df.kitchen_area.describe()"
   ]
  },
  {
   "cell_type": "code",
   "execution_count": null,
   "id": "d49dbe37-b609-4475-b99a-c32bfb921e1d",
   "metadata": {},
   "outputs": [],
   "source": []
  },
  {
   "cell_type": "code",
   "execution_count": null,
   "id": "56834a40-b92b-42a3-a89a-b7ad1a04d0ae",
   "metadata": {},
   "outputs": [],
   "source": [
    "streamlit run app.py"
   ]
  },
  {
   "cell_type": "code",
   "execution_count": null,
   "id": "9655274b-ed2e-4cef-b3ba-2cbda03fdcaf",
   "metadata": {},
   "outputs": [],
   "source": [
    "district = st.selectbox(\n",
    "    \"Район\",\n",
    "    ['Советский', 'Приокский', 'Канавинский', 'Автозаводский',\n",
    "       'Нижегородский', 'Московский', 'Сормовский', 'Новинский',\n",
    "       'Ленинский']\n",
    ")"
   ]
  },
  {
   "cell_type": "code",
   "execution_count": null,
   "id": "4b30c657-81e6-45b9-a345-f9ed5a3cb9ad",
   "metadata": {},
   "outputs": [],
   "source": [
    "building_type = st.selectbox(\n",
    "    \"Материал дома\",\n",
    "    ['кирпич', 'панель', 'шлакоблок', 'блок+утеплитель', 'дерево',\n",
    "           'монолитный железобетон']\n",
    ")"
   ]
  },
  {
   "cell_type": "code",
   "execution_count": null,
   "id": "ddf6088e-9323-43fe-8d53-b6def98a0523",
   "metadata": {},
   "outputs": [],
   "source": [
    "# st.write(\"You selected:\", building_type)"
   ]
  },
  {
   "cell_type": "code",
   "execution_count": null,
   "id": "4a652ebe-ab3e-4a8f-b3f1-dc2153394eb0",
   "metadata": {},
   "outputs": [],
   "source": [
    "year = st.slider(\n",
    "    '### Год постройки:',\n",
    "    min_value=1835.0,\n",
    "    max_value=2027.0,\n",
    "    value=2000.0,\n",
    "    step=1.0\n",
    ")"
   ]
  },
  {
   "cell_type": "code",
   "execution_count": null,
   "id": "a2b47101-604d-4170-9589-5402f87bb128",
   "metadata": {},
   "outputs": [],
   "source": [
    "# Переделать в слайдер от 0 до 8\n",
    "rooms = ['Студия', 'Однокомнатная', 'Двухкомнатная', 'Трехкомнатная', 'Четырехкомнатная', '', '', '', '']\n",
    "rooms_count = st.selectbox(\n",
    "    \"Комнаты\",\n",
    "    rooms,\n",
    "    index=2\n",
    ")"
   ]
  },
  {
   "cell_type": "code",
   "execution_count": null,
   "id": "0280a7b8-e183-4c70-8ae9-e8c781e3ebc6",
   "metadata": {},
   "outputs": [],
   "source": [
    "room2count = dict(zip(rooms,[0,1,2,3,4]))"
   ]
  },
  {
   "cell_type": "code",
   "execution_count": null,
   "id": "3560a25d-936f-4dd4-9f11-7fb5059bb503",
   "metadata": {},
   "outputs": [],
   "source": [
    "no_first_no_last = st.checkbox(\"Не первый не последний этаж\", value=True)"
   ]
  },
  {
   "cell_type": "code",
   "execution_count": null,
   "id": "06bc0d96-ae4b-49ef-bc6b-62acff699dec",
   "metadata": {},
   "outputs": [],
   "source": [
    "appart =dict(zip(\n",
    "    ['area1', 'district', 'building_type', 'year', 'rooms_count', 'no_first_no_last'],\n",
    "    [area, district, building_type, year, rooms2int[rooms_count], no_first_no_last]\n",
    "))\n",
    "# )\n",
    "new = pd.DataFrame(appart, index=[0])"
   ]
  },
  {
   "cell_type": "code",
   "execution_count": null,
   "id": "45426524-62b9-4788-ac6e-521f6b06d0dc",
   "metadata": {},
   "outputs": [],
   "source": [
    "appart =dict(zip(\n",
    "    ['area1', 'district', 'building_type', 'year', 'rooms_count', 'no_first_no_last'],\n",
    "    [area, district, building_type, year, rooms2int[rooms_count], no_first_no_last]\n",
    "))"
   ]
  },
  {
   "cell_type": "code",
   "execution_count": null,
   "id": "80dbbc64-60c1-4ccb-8e0a-2f78f562edc0",
   "metadata": {},
   "outputs": [],
   "source": [
    "new = pd.DataFrame(appart, index=[0])\n",
    "st.write(new)"
   ]
  },
  {
   "cell_type": "code",
   "execution_count": null,
   "id": "4bf347b1-fafb-436b-a420-2d6f9e07495a",
   "metadata": {},
   "outputs": [],
   "source": [
    "model_pkl_file = \"models/apartment_prices_regression.pkl\"\n",
    "with open(model_pkl_file, 'rb') as file:\n",
    "    model = pickle.load(file)"
   ]
  },
  {
   "cell_type": "code",
   "execution_count": null,
   "id": "be9e10fb-89a2-4fd5-af0b-c45400013ce6",
   "metadata": {},
   "outputs": [],
   "source": [
    "st.write(\"## Оценочная стоимость квартиры:\",\"{:,}\".format(int(model.predict(new)[0])))"
   ]
  },
  {
   "cell_type": "code",
   "execution_count": null,
   "id": "ddd34a12-6e24-4021-906e-1c9720868754",
   "metadata": {},
   "outputs": [],
   "source": [
    "pip install scikit-learn"
   ]
  },
  {
   "cell_type": "code",
   "execution_count": null,
   "id": "068b180f-2ca9-4dee-9011-fbc230bbe67e",
   "metadata": {},
   "outputs": [],
   "source": [
    "sklearn.__version__"
   ]
  },
  {
   "cell_type": "code",
   "execution_count": null,
   "id": "84c983df-7d0b-4891-9292-f0836a2b42f3",
   "metadata": {},
   "outputs": [],
   "source": [
    "pip install scikit-learn==1.4.1.post1"
   ]
  },
  {
   "cell_type": "code",
   "execution_count": null,
   "id": "fbbd3b14-f99a-4359-9210-7f69a38428c0",
   "metadata": {},
   "outputs": [],
   "source": [
    "pip install scikit-learn==1.2.2"
   ]
  },
  {
   "cell_type": "code",
   "execution_count": null,
   "id": "ad4efa2f-2e68-44a8-b217-5965e3a20252",
   "metadata": {},
   "outputs": [],
   "source": [
    "Git add, git commit, git push"
   ]
  }
 ],
 "metadata": {
  "kernelspec": {
   "display_name": "Python 3 (ipykernel)",
   "language": "python",
   "name": "python3"
  },
  "language_info": {
   "codemirror_mode": {
    "name": "ipython",
    "version": 3
   },
   "file_extension": ".py",
   "mimetype": "text/x-python",
   "name": "python",
   "nbconvert_exporter": "python",
   "pygments_lexer": "ipython3",
   "version": "3.11.7"
  }
 },
 "nbformat": 4,
 "nbformat_minor": 5
}
