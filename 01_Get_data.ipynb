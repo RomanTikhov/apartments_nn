{
 "cells": [
  {
   "cell_type": "code",
   "execution_count": 1,
   "id": "14ccb692-e778-43c6-a291-bd7ad5051896",
   "metadata": {},
   "outputs": [],
   "source": [
    "import requests\n",
    "from bs4 import BeautifulSoup\n",
    "import time\n",
    "import pandas as pd"
   ]
  },
  {
   "cell_type": "markdown",
   "id": "5417d0d4-d2bc-435f-97d1-5eaf8de371bc",
   "metadata": {},
   "source": [
    "## Парсинг сайта по продаже квартир"
   ]
  },
  {
   "cell_type": "raw",
   "id": "81383e47-6e32-406b-b8f8-648397886712",
   "metadata": {},
   "source": [
    "response = requests.get(url)"
   ]
  },
  {
   "cell_type": "raw",
   "id": "4ddaacb8-992e-43eb-b3af-1046f3298a72",
   "metadata": {},
   "source": [
    "response.status_code"
   ]
  },
  {
   "cell_type": "markdown",
   "id": "67287768-6f4a-46a1-875f-1886a5b83681",
   "metadata": {},
   "source": [
    "#### Даные по продажам квартир в структуре сайта выполнены в виде таблицы. Можно обойтись без Beautyfulsoup, распарсить данные с помощью Pandas. "
   ]
  },
  {
   "cell_type": "raw",
   "id": "e45c3bc0-0acc-498b-8a09-259387639f4d",
   "metadata": {},
   "source": [
    "data = []\n",
    "random_seconds = [5, 7, 10, 12]\n",
    "count = 0\n",
    "df = []\n",
    "for i in range(1, 87):\n",
    "    count += 1\n",
    "    try:\n",
    "        df = pd.read_html(f'url?page={i}')[0]\n",
    "        time.sleep(np.random.choice(random_seconds))\n",
    "        data.append(df)\n",
    "    except:\n",
    "        pass\n",
    "    if count % 20 == 0:\n",
    "        combined_df = pd.concat(data, ignore_index=True)\n",
    "        combined_df.to_csv(f'data\\houses_{i}.csv', index=False)\n",
    "        \n",
    "houses = pd.concat(data, ignore_index=True)\n",
    "houses.to_csv('data\\houses_result.csv', index=False)"
   ]
  },
  {
   "cell_type": "markdown",
   "id": "35bf8afa-ddb9-4d31-b534-e316c94acf1b",
   "metadata": {},
   "source": [
    "#### Все данные удалось сохранить в файл 'houses.csv'. Теперь посмотрим на них и постараемся вытянуть первоначальные признаки"
   ]
  }
 ],
 "metadata": {
  "kernelspec": {
   "display_name": "Python 3 (ipykernel)",
   "language": "python",
   "name": "python3"
  },
  "language_info": {
   "codemirror_mode": {
    "name": "ipython",
    "version": 3
   },
   "file_extension": ".py",
   "mimetype": "text/x-python",
   "name": "python",
   "nbconvert_exporter": "python",
   "pygments_lexer": "ipython3",
   "version": "3.11.7"
  }
 },
 "nbformat": 4,
 "nbformat_minor": 5
}
